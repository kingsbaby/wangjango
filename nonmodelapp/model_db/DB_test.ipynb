{
 "cells": [
  {
   "cell_type": "code",
   "execution_count": 41,
   "id": "d4d08b03",
   "metadata": {},
   "outputs": [],
   "source": [
    "# <DB 접속 및 사용순서>\n",
    "# 1 DB 드라이버 연결 \n",
    "# 2. DBconnection 접속\n",
    "# 3. 커서 받아오기 \n",
    "# 4. sql 구문 작성 및 실행요청\n",
    "# 5. 결과출력을 위한 프로그래밍\n",
    "# 6.커서반환 > DB Connection 접속해제\n",
    "#\n",
    "\n",
    "#오라클 라이브러리 불러들이기 \n",
    "import cx_Oracle"
   ]
  },
  {
   "cell_type": "markdown",
   "id": "9c8dc1c7",
   "metadata": {},
   "source": [
    "### 1. DB드라이버 연결하기 (서버찾아가가)"
   ]
  },
  {
   "cell_type": "code",
   "execution_count": 42,
   "id": "37ed8a5b",
   "metadata": {},
   "outputs": [],
   "source": [
    "dsn = cx_Oracle.makedsn(\"localhost\", 1521, \"xe\")"
   ]
  },
  {
   "cell_type": "markdown",
   "id": "a5f643f1",
   "metadata": {},
   "source": [
    "### 2. DB접속하기 (connect)"
   ]
  },
  {
   "cell_type": "code",
   "execution_count": 43,
   "id": "0d216709",
   "metadata": {},
   "outputs": [],
   "source": [
    "conn = cx_Oracle.connect(\"gwangju_a\",\"dbdb\",dsn)"
   ]
  },
  {
   "cell_type": "markdown",
   "id": "5f355b82",
   "metadata": {},
   "source": [
    "### 3.커서(cursor)받아오기 (서버로 SQL구문을 실어나르고, 결과 받아오는 역할)"
   ]
  },
  {
   "cell_type": "code",
   "execution_count": 44,
   "id": "6d533200",
   "metadata": {},
   "outputs": [],
   "source": [
    "cursor = conn.cursor()"
   ]
  },
  {
   "cell_type": "markdown",
   "id": "00cb903a",
   "metadata": {},
   "source": [
    "### 4.SQL 구문 작성 및 실행요청(커서가 처리함)"
   ]
  },
  {
   "cell_type": "code",
   "execution_count": 45,
   "id": "f14c497f",
   "metadata": {},
   "outputs": [],
   "source": [
    "### sql 요청 구문 작성하기\n",
    "### 회원정보에서 회원아이디, 회원이름, 회원주소1 조회하기 \n",
    "sql = \"\"\"\n",
    "SELECT mem_id , mem_name, mem_add1\n",
    "FROM MEMBER\n",
    "ORDER BY mem_name asc\n",
    "\"\"\""
   ]
  },
  {
   "cell_type": "code",
   "execution_count": 46,
   "id": "4955d382",
   "metadata": {
    "scrolled": false
   },
   "outputs": [
    {
     "data": {
      "text/plain": [
       "<cx_Oracle.Cursor on <cx_Oracle.Connection to gwangju_a@(DESCRIPTION=(ADDRESS=(PROTOCOL=TCP)(HOST=localhost)(PORT=1521))(CONNECT_DATA=(SID=xe)))>>"
      ]
     },
     "execution_count": 46,
     "metadata": {},
     "output_type": "execute_result"
    }
   ],
   "source": [
    "### 구문을 서버에게 보내서 요청하고, 결과를 받아오기 -> 커서가 수행함 \n",
    "cursor.execute(sql)"
   ]
  },
  {
   "cell_type": "markdown",
   "id": "8e0fc421",
   "metadata": {},
   "source": [
    "#### 5. 결과출력을 위한 프로그래밍"
   ]
  },
  {
   "cell_type": "code",
   "execution_count": 47,
   "id": "d354bcf9",
   "metadata": {},
   "outputs": [],
   "source": [
    "### 커서가 db서버로부터 받아온 결과값 추출하기\n",
    "#-여러건존재 -fetchal()\n",
    "#-한건존재 - fetchone()\n",
    "rows= cursor.fetchall()"
   ]
  },
  {
   "cell_type": "code",
   "execution_count": 48,
   "id": "abd4a8e6",
   "metadata": {},
   "outputs": [
    {
     "data": {
      "text/plain": [
       "[('l001', '구길동', '충남금산군 금산읍'),\n",
       " ('u001', '김성욱', '대전시 동구 용전동'),\n",
       " ('j001', '김윤희', '대전시 서구 삼천동'),\n",
       " ('a001', '김은대', '대전시 동구 용운동999'),\n",
       " ('w001', '김형모', '대전시 대덕구 연축동'),\n",
       " ('h001', '라준호', '충남 논산시 양촌면'),\n",
       " ('m001', '박지은', '대전광역시 서구 갈마동'),\n",
       " ('o001', '배인정', '대전시 서구 갈마동'),\n",
       " ('t001', '성원태', '대전광역시 중구 유천동'),\n",
       " ('d001', '성윤미', '대전시 중구 하늘동 '),\n",
       " ('g001', '송경희', '충남금산군 제원면'),\n",
       " ('f001', '신영남', '대전광역시 대흥동'),\n",
       " ('c001', '신용환', '대전광역시 중구 대흥동'),\n",
       " ('s001', '안은정', '대구광역시 서구 탄방동'),\n",
       " ('p001', '오성순', '대전유성구송강동'),\n",
       " ('k001', '오철희', '대전시 대덕구 대화동'),\n",
       " ('q001', '육평회', '대구광역시 대덕구 중리동'),\n",
       " ('b001', '이쁜이', '서울시 천사동 예쁜마을'),\n",
       " ('v001', '이진영', '대전시 동구 용전동'),\n",
       " ('e001', '이혜나', '대전시 대덕구 읍내동'),\n",
       " ('r001', '정은실', '대전시 동구 용전동'),\n",
       " ('x001', '진현경', '대전광역시 동구 오정동'),\n",
       " ('i001', '최지현', '대전시 동구 가양1동'),\n",
       " ('n001', '탁원재', '대전시 동구 자양동')]"
      ]
     },
     "execution_count": 48,
     "metadata": {},
     "output_type": "execute_result"
    }
   ],
   "source": [
    "rows"
   ]
  },
  {
   "cell_type": "code",
   "execution_count": 9,
   "id": "ae4c8741",
   "metadata": {},
   "outputs": [],
   "source": [
    "### 조회 결과에 대한 컬럼명만 조회하기( 커서가 가지고있음)\n",
    "colname = cursor.description"
   ]
  },
  {
   "cell_type": "code",
   "execution_count": 10,
   "id": "32ef5e8a",
   "metadata": {},
   "outputs": [
    {
     "data": {
      "text/plain": [
       "[('MEM_ID', <cx_Oracle.DbType DB_TYPE_VARCHAR>, 15, 15, None, None, 0),\n",
       " ('MEM_NAME', <cx_Oracle.DbType DB_TYPE_VARCHAR>, 20, 20, None, None, 0),\n",
       " ('MEM_ADD1', <cx_Oracle.DbType DB_TYPE_VARCHAR>, 100, 100, None, None, 0)]"
      ]
     },
     "execution_count": 10,
     "metadata": {},
     "output_type": "execute_result"
    }
   ],
   "source": [
    "###데이터 베이스에서 조회한 결과의 컬럼명은 모두 대문자  \n",
    "# - 프로그램에서 사용할 때는 소문자로 바꿔서 사용\n",
    "colname"
   ]
  },
  {
   "cell_type": "code",
   "execution_count": 11,
   "id": "4f840635",
   "metadata": {},
   "outputs": [
    {
     "data": {
      "text/plain": [
       "['mem_id', 'mem_name', 'mem_add1']"
      ]
     },
     "execution_count": 11,
     "metadata": {},
     "output_type": "execute_result"
    }
   ],
   "source": [
    "### 컬럼명만 추출하여 col = [] 변수에 담기\n",
    "# - 추출한 컬럼명은 소문자로 변환해서 col리스트 변수에 담기\n",
    "\n",
    "#for문 안에서 값을 담아서 누적시키기위해 전역변수로 선언 \n",
    "col= []\n",
    "for t in colname :\n",
    "    # col 리스트 변수에 값을 추가하기 : append(값) 사용\n",
    "    col.append(t[0].lower())\n",
    "col"
   ]
  },
  {
   "cell_type": "code",
   "execution_count": 27,
   "id": "a8a4537d",
   "metadata": {},
   "outputs": [
    {
     "data": {
      "text/plain": [
       "[{'mem_id': 'l001', 'mem_name': '구길동', 'mem_add1': '충남금산군 금산읍'},\n",
       " {'mem_id': 'l001', 'mem_name': '구길동', 'mem_add1': '충남금산군 금산읍'},\n",
       " {'mem_id': 'l001', 'mem_name': '구길동', 'mem_add1': '충남금산군 금산읍'},\n",
       " {'mem_id': 'u001', 'mem_name': '김성욱', 'mem_add1': '대전시 동구 용전동'},\n",
       " {'mem_id': 'u001', 'mem_name': '김성욱', 'mem_add1': '대전시 동구 용전동'},\n",
       " {'mem_id': 'u001', 'mem_name': '김성욱', 'mem_add1': '대전시 동구 용전동'},\n",
       " {'mem_id': 'j001', 'mem_name': '김윤희', 'mem_add1': '대전시 서구 삼천동'},\n",
       " {'mem_id': 'j001', 'mem_name': '김윤희', 'mem_add1': '대전시 서구 삼천동'},\n",
       " {'mem_id': 'j001', 'mem_name': '김윤희', 'mem_add1': '대전시 서구 삼천동'},\n",
       " {'mem_id': 'a001', 'mem_name': '김은대', 'mem_add1': '대전시 동구 용운동999'},\n",
       " {'mem_id': 'a001', 'mem_name': '김은대', 'mem_add1': '대전시 동구 용운동999'},\n",
       " {'mem_id': 'a001', 'mem_name': '김은대', 'mem_add1': '대전시 동구 용운동999'},\n",
       " {'mem_id': 'w001', 'mem_name': '김형모', 'mem_add1': '대전시 대덕구 연축동'},\n",
       " {'mem_id': 'w001', 'mem_name': '김형모', 'mem_add1': '대전시 대덕구 연축동'},\n",
       " {'mem_id': 'w001', 'mem_name': '김형모', 'mem_add1': '대전시 대덕구 연축동'},\n",
       " {'mem_id': 'h001', 'mem_name': '라준호', 'mem_add1': '충남 논산시 양촌면'},\n",
       " {'mem_id': 'h001', 'mem_name': '라준호', 'mem_add1': '충남 논산시 양촌면'},\n",
       " {'mem_id': 'h001', 'mem_name': '라준호', 'mem_add1': '충남 논산시 양촌면'},\n",
       " {'mem_id': 'm001', 'mem_name': '박지은', 'mem_add1': '대전광역시 서구 갈마동'},\n",
       " {'mem_id': 'm001', 'mem_name': '박지은', 'mem_add1': '대전광역시 서구 갈마동'},\n",
       " {'mem_id': 'm001', 'mem_name': '박지은', 'mem_add1': '대전광역시 서구 갈마동'},\n",
       " {'mem_id': 'o001', 'mem_name': '배인정', 'mem_add1': '대전시 서구 갈마동'},\n",
       " {'mem_id': 'o001', 'mem_name': '배인정', 'mem_add1': '대전시 서구 갈마동'},\n",
       " {'mem_id': 'o001', 'mem_name': '배인정', 'mem_add1': '대전시 서구 갈마동'},\n",
       " {'mem_id': 't001', 'mem_name': '성원태', 'mem_add1': '대전광역시 중구 유천동'},\n",
       " {'mem_id': 't001', 'mem_name': '성원태', 'mem_add1': '대전광역시 중구 유천동'},\n",
       " {'mem_id': 't001', 'mem_name': '성원태', 'mem_add1': '대전광역시 중구 유천동'},\n",
       " {'mem_id': 'd001', 'mem_name': '성윤미', 'mem_add1': '대전시 중구 하늘동 '},\n",
       " {'mem_id': 'd001', 'mem_name': '성윤미', 'mem_add1': '대전시 중구 하늘동 '},\n",
       " {'mem_id': 'd001', 'mem_name': '성윤미', 'mem_add1': '대전시 중구 하늘동 '},\n",
       " {'mem_id': 'g001', 'mem_name': '송경희', 'mem_add1': '충남금산군 제원면'},\n",
       " {'mem_id': 'g001', 'mem_name': '송경희', 'mem_add1': '충남금산군 제원면'},\n",
       " {'mem_id': 'g001', 'mem_name': '송경희', 'mem_add1': '충남금산군 제원면'},\n",
       " {'mem_id': 'f001', 'mem_name': '신영남', 'mem_add1': '대전광역시 대흥동'},\n",
       " {'mem_id': 'f001', 'mem_name': '신영남', 'mem_add1': '대전광역시 대흥동'},\n",
       " {'mem_id': 'f001', 'mem_name': '신영남', 'mem_add1': '대전광역시 대흥동'},\n",
       " {'mem_id': 'c001', 'mem_name': '신용환', 'mem_add1': '대전광역시 중구 대흥동'},\n",
       " {'mem_id': 'c001', 'mem_name': '신용환', 'mem_add1': '대전광역시 중구 대흥동'},\n",
       " {'mem_id': 'c001', 'mem_name': '신용환', 'mem_add1': '대전광역시 중구 대흥동'},\n",
       " {'mem_id': 's001', 'mem_name': '안은정', 'mem_add1': '대구광역시 서구 탄방동'},\n",
       " {'mem_id': 's001', 'mem_name': '안은정', 'mem_add1': '대구광역시 서구 탄방동'},\n",
       " {'mem_id': 's001', 'mem_name': '안은정', 'mem_add1': '대구광역시 서구 탄방동'},\n",
       " {'mem_id': 'p001', 'mem_name': '오성순', 'mem_add1': '대전유성구송강동'},\n",
       " {'mem_id': 'p001', 'mem_name': '오성순', 'mem_add1': '대전유성구송강동'},\n",
       " {'mem_id': 'p001', 'mem_name': '오성순', 'mem_add1': '대전유성구송강동'},\n",
       " {'mem_id': 'k001', 'mem_name': '오철희', 'mem_add1': '대전시 대덕구 대화동'},\n",
       " {'mem_id': 'k001', 'mem_name': '오철희', 'mem_add1': '대전시 대덕구 대화동'},\n",
       " {'mem_id': 'k001', 'mem_name': '오철희', 'mem_add1': '대전시 대덕구 대화동'},\n",
       " {'mem_id': 'q001', 'mem_name': '육평회', 'mem_add1': '대구광역시 대덕구 중리동'},\n",
       " {'mem_id': 'q001', 'mem_name': '육평회', 'mem_add1': '대구광역시 대덕구 중리동'},\n",
       " {'mem_id': 'q001', 'mem_name': '육평회', 'mem_add1': '대구광역시 대덕구 중리동'},\n",
       " {'mem_id': 'b001', 'mem_name': '이쁜이', 'mem_add1': '서울시 천사동 예쁜마을'},\n",
       " {'mem_id': 'b001', 'mem_name': '이쁜이', 'mem_add1': '서울시 천사동 예쁜마을'},\n",
       " {'mem_id': 'b001', 'mem_name': '이쁜이', 'mem_add1': '서울시 천사동 예쁜마을'},\n",
       " {'mem_id': 'v001', 'mem_name': '이진영', 'mem_add1': '대전시 동구 용전동'},\n",
       " {'mem_id': 'v001', 'mem_name': '이진영', 'mem_add1': '대전시 동구 용전동'},\n",
       " {'mem_id': 'v001', 'mem_name': '이진영', 'mem_add1': '대전시 동구 용전동'},\n",
       " {'mem_id': 'e001', 'mem_name': '이혜나', 'mem_add1': '대전시 대덕구 읍내동'},\n",
       " {'mem_id': 'e001', 'mem_name': '이혜나', 'mem_add1': '대전시 대덕구 읍내동'},\n",
       " {'mem_id': 'e001', 'mem_name': '이혜나', 'mem_add1': '대전시 대덕구 읍내동'},\n",
       " {'mem_id': 'r001', 'mem_name': '정은실', 'mem_add1': '대전시 동구 용전동'},\n",
       " {'mem_id': 'r001', 'mem_name': '정은실', 'mem_add1': '대전시 동구 용전동'},\n",
       " {'mem_id': 'r001', 'mem_name': '정은실', 'mem_add1': '대전시 동구 용전동'},\n",
       " {'mem_id': 'x001', 'mem_name': '진현경', 'mem_add1': '대전광역시 동구 오정동'},\n",
       " {'mem_id': 'x001', 'mem_name': '진현경', 'mem_add1': '대전광역시 동구 오정동'},\n",
       " {'mem_id': 'x001', 'mem_name': '진현경', 'mem_add1': '대전광역시 동구 오정동'},\n",
       " {'mem_id': 'i001', 'mem_name': '최지현', 'mem_add1': '대전시 동구 가양1동'},\n",
       " {'mem_id': 'i001', 'mem_name': '최지현', 'mem_add1': '대전시 동구 가양1동'},\n",
       " {'mem_id': 'i001', 'mem_name': '최지현', 'mem_add1': '대전시 동구 가양1동'},\n",
       " {'mem_id': 'n001', 'mem_name': '탁원재', 'mem_add1': '대전시 동구 자양동'},\n",
       " {'mem_id': 'n001', 'mem_name': '탁원재', 'mem_add1': '대전시 동구 자양동'},\n",
       " {'mem_id': 'n001', 'mem_name': '탁원재', 'mem_add1': '대전시 동구 자양동'}]"
      ]
     },
     "execution_count": 27,
     "metadata": {},
     "output_type": "execute_result"
    }
   ],
   "source": [
    "### html에서 사용할수 있도록 하기 위해서 \n",
    "# - [{\"mem_id\": \"a001\", \"mem_name\":\"asdfasdf\", \"mem_add1\":\"광주...\"},\n",
    "#   {\"mem_id\": \"a001\", \"mem_name\":\"asdfasdf\", \"mem_add1\":\"광주...\"},\n",
    "# {},{} ,,, ] 형태로 변환하기\n",
    "# - 최종결과값을 담을 변수명 : list_row\n",
    "list_rows = []\n",
    "for t in rows: \n",
    "    dict_temp ={}\n",
    "    for i in range(0,len(col), 1):\n",
    "        #print(col[i], t[i])  #출력결과확인\n",
    "        dict_temp[col[i]] = t[i]\n",
    "        list_rows.append(dict_temp)\n",
    "list_rows"
   ]
  },
  {
   "cell_type": "code",
   "execution_count": null,
   "id": "4353513c",
   "metadata": {},
   "outputs": [],
   "source": [
    "###회원아이디가 'a001'에 대한 회원아이디,회원이름, 회원주소1 조회하기\n",
    "# -> 한건 조회 \n",
    "sql = \"\"\"\n",
    "select mem_id, mem_name, mem_add1\n",
    "from member\n",
    "where mem_id = 'a001' \n",
    "\"\"\""
   ]
  },
  {
   "cell_type": "code",
   "execution_count": null,
   "id": "04f9b77e",
   "metadata": {},
   "outputs": [],
   "source": []
  },
  {
   "cell_type": "markdown",
   "id": "0de9cf61",
   "metadata": {},
   "source": [
    "### 6.커서반환 > DB Connection 접속해제 "
   ]
  },
  {
   "cell_type": "code",
   "execution_count": 15,
   "id": "d80e0b82",
   "metadata": {},
   "outputs": [
    {
     "data": {
      "text/plain": [
       "<cx_Oracle.Cursor on <cx_Oracle.Connection to gwangju_a@(DESCRIPTION=(ADDRESS=(PROTOCOL=TCP)(HOST=localhost)(PORT=1521))(CONNECT_DATA=(SID=xe)))>>"
      ]
     },
     "execution_count": 15,
     "metadata": {},
     "output_type": "execute_result"
    }
   ],
   "source": [
    "cursor.execute(sql)   #커서로 넘김"
   ]
  },
  {
   "cell_type": "code",
   "execution_count": 17,
   "id": "6647d87c",
   "metadata": {},
   "outputs": [],
   "source": [
    "row = cursor.fetchone()"
   ]
  },
  {
   "cell_type": "code",
   "execution_count": 20,
   "id": "36a25417",
   "metadata": {},
   "outputs": [
    {
     "data": {
      "text/plain": [
       "('u001', '김성욱', '대전시 동구 용전동')"
      ]
     },
     "execution_count": 20,
     "metadata": {},
     "output_type": "execute_result"
    }
   ],
   "source": [
    "row"
   ]
  },
  {
   "cell_type": "code",
   "execution_count": 25,
   "id": "8b35a0be",
   "metadata": {},
   "outputs": [
    {
     "data": {
      "text/plain": [
       "[('MEM_ID', <cx_Oracle.DbType DB_TYPE_VARCHAR>, 15, 15, None, None, 0),\n",
       " ('MEM_NAME', <cx_Oracle.DbType DB_TYPE_VARCHAR>, 20, 20, None, None, 0),\n",
       " ('MEM_ADD1', <cx_Oracle.DbType DB_TYPE_VARCHAR>, 100, 100, None, None, 0)]"
      ]
     },
     "execution_count": 25,
     "metadata": {},
     "output_type": "execute_result"
    }
   ],
   "source": [
    "colname"
   ]
  },
  {
   "cell_type": "code",
   "execution_count": 35,
   "id": "3a1bb7d3",
   "metadata": {},
   "outputs": [
    {
     "data": {
      "text/plain": [
       "{'mem_id': 'u001', 'mem_name': '김성욱', 'mem_add1': '대전시 동구 용전동'}"
      ]
     },
     "execution_count": 35,
     "metadata": {},
     "output_type": "execute_result"
    }
   ],
   "source": [
    "### 한건조회 결과를 딕셔너리 형태로 변환하기\n",
    "#최종변수이름 : dict_row\n",
    "col = [] \n",
    "for t in colname :\n",
    "    #col 리스트 변수에 값을 추가하기\n",
    "    col.append(t[0].lower())\n",
    "#딕셔너리로 변환\n",
    "dict_row = {}    \n",
    "for i in range(0,len(col),1) : \n",
    "     dict_row[col[i]] = row[i]\n",
    "dict_row\n",
    "  "
   ]
  },
  {
   "cell_type": "code",
   "execution_count": 56,
   "id": "d2f69fe2",
   "metadata": {},
   "outputs": [],
   "source": [
    "### 커서(cursor) 반환하기\n",
    "cursor.close()\n",
    "### 접속(connect)접속 해제\n",
    "conn.close()"
   ]
  },
  {
   "cell_type": "markdown",
   "id": "434b5e64",
   "metadata": {},
   "source": [
    "###  DB접속 기능함수정의"
   ]
  },
  {
   "cell_type": "code",
   "execution_count": 49,
   "id": "1bdf4d03",
   "metadata": {},
   "outputs": [],
   "source": [
    "### 커서 cursor 반환하기 \n",
    "def getDBConn_Cursor() :\n",
    "    dsn = cx_Oracle.makedsn(\"localhost\", 1521, \"xe\")\n",
    "    conn = cx_Oracle.connect(\"gwangju_a\",\"dbdb\",dsn)\n",
    "    cursor = conn.cursor()\n",
    "    \n",
    "    return conn,cursor"
   ]
  },
  {
   "cell_type": "markdown",
   "id": "8b3ebfdc",
   "metadata": {},
   "source": [
    "### - 조회결과에서 컬럼명 추출하기 기능"
   ]
  },
  {
   "cell_type": "code",
   "execution_count": 52,
   "id": "79eccb62",
   "metadata": {},
   "outputs": [],
   "source": [
    "def getColName(cursor):\n",
    "    col = [] \n",
    "    for t in cursor.description:\n",
    "        #col 리스트 변수에 값을 추가하기\n",
    "        col.append(t[0].lower())\n",
    "    return col"
   ]
  },
  {
   "cell_type": "markdown",
   "id": "b31831f3",
   "metadata": {},
   "source": [
    "### - 한건조회시 딕셔너리로 변환하는 기능정의"
   ]
  },
  {
   "cell_type": "code",
   "execution_count": 50,
   "id": "817aaa99",
   "metadata": {},
   "outputs": [],
   "source": [
    "def getFetchOne(cursor,row) :\n",
    "    #컬럼명 조회 함수 호출\n",
    "    col = getColName(cursor)\n",
    "    \n",
    "    dict_row = {}     \n",
    "    for i in range(0,len(col),1) : \n",
    "             dict_row[col[i]] = row[i]\n",
    "    return dict_row"
   ]
  },
  {
   "cell_type": "markdown",
   "id": "4ccdb03e",
   "metadata": {},
   "source": [
    "### 여러건 조회시 리스트의 딕셔너리로 변환하는기능 정의"
   ]
  },
  {
   "cell_type": "code",
   "execution_count": 51,
   "id": "2e3281d3",
   "metadata": {},
   "outputs": [
    {
     "data": {
      "text/plain": [
       "[{'mem_id': 'l001', 'mem_name': '구길동', 'mem_add1': '충남금산군 금산읍'},\n",
       " {'mem_id': 'l001', 'mem_name': '구길동', 'mem_add1': '충남금산군 금산읍'},\n",
       " {'mem_id': 'l001', 'mem_name': '구길동', 'mem_add1': '충남금산군 금산읍'},\n",
       " {'mem_id': 'u001', 'mem_name': '김성욱', 'mem_add1': '대전시 동구 용전동'},\n",
       " {'mem_id': 'u001', 'mem_name': '김성욱', 'mem_add1': '대전시 동구 용전동'},\n",
       " {'mem_id': 'u001', 'mem_name': '김성욱', 'mem_add1': '대전시 동구 용전동'},\n",
       " {'mem_id': 'j001', 'mem_name': '김윤희', 'mem_add1': '대전시 서구 삼천동'},\n",
       " {'mem_id': 'j001', 'mem_name': '김윤희', 'mem_add1': '대전시 서구 삼천동'},\n",
       " {'mem_id': 'j001', 'mem_name': '김윤희', 'mem_add1': '대전시 서구 삼천동'},\n",
       " {'mem_id': 'a001', 'mem_name': '김은대', 'mem_add1': '대전시 동구 용운동999'},\n",
       " {'mem_id': 'a001', 'mem_name': '김은대', 'mem_add1': '대전시 동구 용운동999'},\n",
       " {'mem_id': 'a001', 'mem_name': '김은대', 'mem_add1': '대전시 동구 용운동999'},\n",
       " {'mem_id': 'w001', 'mem_name': '김형모', 'mem_add1': '대전시 대덕구 연축동'},\n",
       " {'mem_id': 'w001', 'mem_name': '김형모', 'mem_add1': '대전시 대덕구 연축동'},\n",
       " {'mem_id': 'w001', 'mem_name': '김형모', 'mem_add1': '대전시 대덕구 연축동'},\n",
       " {'mem_id': 'h001', 'mem_name': '라준호', 'mem_add1': '충남 논산시 양촌면'},\n",
       " {'mem_id': 'h001', 'mem_name': '라준호', 'mem_add1': '충남 논산시 양촌면'},\n",
       " {'mem_id': 'h001', 'mem_name': '라준호', 'mem_add1': '충남 논산시 양촌면'},\n",
       " {'mem_id': 'm001', 'mem_name': '박지은', 'mem_add1': '대전광역시 서구 갈마동'},\n",
       " {'mem_id': 'm001', 'mem_name': '박지은', 'mem_add1': '대전광역시 서구 갈마동'},\n",
       " {'mem_id': 'm001', 'mem_name': '박지은', 'mem_add1': '대전광역시 서구 갈마동'},\n",
       " {'mem_id': 'o001', 'mem_name': '배인정', 'mem_add1': '대전시 서구 갈마동'},\n",
       " {'mem_id': 'o001', 'mem_name': '배인정', 'mem_add1': '대전시 서구 갈마동'},\n",
       " {'mem_id': 'o001', 'mem_name': '배인정', 'mem_add1': '대전시 서구 갈마동'},\n",
       " {'mem_id': 't001', 'mem_name': '성원태', 'mem_add1': '대전광역시 중구 유천동'},\n",
       " {'mem_id': 't001', 'mem_name': '성원태', 'mem_add1': '대전광역시 중구 유천동'},\n",
       " {'mem_id': 't001', 'mem_name': '성원태', 'mem_add1': '대전광역시 중구 유천동'},\n",
       " {'mem_id': 'd001', 'mem_name': '성윤미', 'mem_add1': '대전시 중구 하늘동 '},\n",
       " {'mem_id': 'd001', 'mem_name': '성윤미', 'mem_add1': '대전시 중구 하늘동 '},\n",
       " {'mem_id': 'd001', 'mem_name': '성윤미', 'mem_add1': '대전시 중구 하늘동 '},\n",
       " {'mem_id': 'g001', 'mem_name': '송경희', 'mem_add1': '충남금산군 제원면'},\n",
       " {'mem_id': 'g001', 'mem_name': '송경희', 'mem_add1': '충남금산군 제원면'},\n",
       " {'mem_id': 'g001', 'mem_name': '송경희', 'mem_add1': '충남금산군 제원면'},\n",
       " {'mem_id': 'f001', 'mem_name': '신영남', 'mem_add1': '대전광역시 대흥동'},\n",
       " {'mem_id': 'f001', 'mem_name': '신영남', 'mem_add1': '대전광역시 대흥동'},\n",
       " {'mem_id': 'f001', 'mem_name': '신영남', 'mem_add1': '대전광역시 대흥동'},\n",
       " {'mem_id': 'c001', 'mem_name': '신용환', 'mem_add1': '대전광역시 중구 대흥동'},\n",
       " {'mem_id': 'c001', 'mem_name': '신용환', 'mem_add1': '대전광역시 중구 대흥동'},\n",
       " {'mem_id': 'c001', 'mem_name': '신용환', 'mem_add1': '대전광역시 중구 대흥동'},\n",
       " {'mem_id': 's001', 'mem_name': '안은정', 'mem_add1': '대구광역시 서구 탄방동'},\n",
       " {'mem_id': 's001', 'mem_name': '안은정', 'mem_add1': '대구광역시 서구 탄방동'},\n",
       " {'mem_id': 's001', 'mem_name': '안은정', 'mem_add1': '대구광역시 서구 탄방동'},\n",
       " {'mem_id': 'p001', 'mem_name': '오성순', 'mem_add1': '대전유성구송강동'},\n",
       " {'mem_id': 'p001', 'mem_name': '오성순', 'mem_add1': '대전유성구송강동'},\n",
       " {'mem_id': 'p001', 'mem_name': '오성순', 'mem_add1': '대전유성구송강동'},\n",
       " {'mem_id': 'k001', 'mem_name': '오철희', 'mem_add1': '대전시 대덕구 대화동'},\n",
       " {'mem_id': 'k001', 'mem_name': '오철희', 'mem_add1': '대전시 대덕구 대화동'},\n",
       " {'mem_id': 'k001', 'mem_name': '오철희', 'mem_add1': '대전시 대덕구 대화동'},\n",
       " {'mem_id': 'q001', 'mem_name': '육평회', 'mem_add1': '대구광역시 대덕구 중리동'},\n",
       " {'mem_id': 'q001', 'mem_name': '육평회', 'mem_add1': '대구광역시 대덕구 중리동'},\n",
       " {'mem_id': 'q001', 'mem_name': '육평회', 'mem_add1': '대구광역시 대덕구 중리동'},\n",
       " {'mem_id': 'b001', 'mem_name': '이쁜이', 'mem_add1': '서울시 천사동 예쁜마을'},\n",
       " {'mem_id': 'b001', 'mem_name': '이쁜이', 'mem_add1': '서울시 천사동 예쁜마을'},\n",
       " {'mem_id': 'b001', 'mem_name': '이쁜이', 'mem_add1': '서울시 천사동 예쁜마을'},\n",
       " {'mem_id': 'v001', 'mem_name': '이진영', 'mem_add1': '대전시 동구 용전동'},\n",
       " {'mem_id': 'v001', 'mem_name': '이진영', 'mem_add1': '대전시 동구 용전동'},\n",
       " {'mem_id': 'v001', 'mem_name': '이진영', 'mem_add1': '대전시 동구 용전동'},\n",
       " {'mem_id': 'e001', 'mem_name': '이혜나', 'mem_add1': '대전시 대덕구 읍내동'},\n",
       " {'mem_id': 'e001', 'mem_name': '이혜나', 'mem_add1': '대전시 대덕구 읍내동'},\n",
       " {'mem_id': 'e001', 'mem_name': '이혜나', 'mem_add1': '대전시 대덕구 읍내동'},\n",
       " {'mem_id': 'r001', 'mem_name': '정은실', 'mem_add1': '대전시 동구 용전동'},\n",
       " {'mem_id': 'r001', 'mem_name': '정은실', 'mem_add1': '대전시 동구 용전동'},\n",
       " {'mem_id': 'r001', 'mem_name': '정은실', 'mem_add1': '대전시 동구 용전동'},\n",
       " {'mem_id': 'x001', 'mem_name': '진현경', 'mem_add1': '대전광역시 동구 오정동'},\n",
       " {'mem_id': 'x001', 'mem_name': '진현경', 'mem_add1': '대전광역시 동구 오정동'},\n",
       " {'mem_id': 'x001', 'mem_name': '진현경', 'mem_add1': '대전광역시 동구 오정동'},\n",
       " {'mem_id': 'i001', 'mem_name': '최지현', 'mem_add1': '대전시 동구 가양1동'},\n",
       " {'mem_id': 'i001', 'mem_name': '최지현', 'mem_add1': '대전시 동구 가양1동'},\n",
       " {'mem_id': 'i001', 'mem_name': '최지현', 'mem_add1': '대전시 동구 가양1동'},\n",
       " {'mem_id': 'n001', 'mem_name': '탁원재', 'mem_add1': '대전시 동구 자양동'},\n",
       " {'mem_id': 'n001', 'mem_name': '탁원재', 'mem_add1': '대전시 동구 자양동'},\n",
       " {'mem_id': 'n001', 'mem_name': '탁원재', 'mem_add1': '대전시 동구 자양동'}]"
      ]
     },
     "execution_count": 51,
     "metadata": {},
     "output_type": "execute_result"
    }
   ],
   "source": [
    "def getFetchAll(cursor,rows) :\n",
    "    #컬럼명 조회 함수 호출\n",
    "    col = getColName(cursor)\n",
    "    list_rows = []\n",
    "    for t in rows: \n",
    "        dict_temp ={}\n",
    "        for i in range(0,len(col), 1):\n",
    "            #print(col[i], t[i])  #출력결과확인\n",
    "            dict_temp[col[i]] = t[i]\n",
    "            list_row.append(dict_temp)\n",
    "list_rows"
   ]
  },
  {
   "cell_type": "markdown",
   "id": "0f54e363",
   "metadata": {},
   "source": [
    "### 커서 및 connect 접속 해제하는 기능정의"
   ]
  },
  {
   "cell_type": "code",
   "execution_count": null,
   "id": "a7f2a5a3",
   "metadata": {},
   "outputs": [],
   "source": [
    "def DBClose() :\n",
    "    ###커서 반환\n",
    "    cursor.close()\n",
    "    \n",
    "    ###접속 접속해제\n",
    "    conn.close"
   ]
  },
  {
   "cell_type": "markdown",
   "id": "c3d9eb06",
   "metadata": {},
   "source": [
    "### - 함수 호출방식으로 프로그래밍하기 "
   ]
  },
  {
   "cell_type": "code",
   "execution_count": 54,
   "id": "8083240e",
   "metadata": {},
   "outputs": [
    {
     "ename": "SyntaxError",
     "evalue": "invalid syntax (1741303158.py, line 2)",
     "output_type": "error",
     "traceback": [
      "\u001b[1;36m  Cell \u001b[1;32mIn[54], line 2\u001b[1;36m\u001b[0m\n\u001b[1;33m    conn, cursor = getDBConn_Cursor() :\u001b[0m\n\u001b[1;37m                                      ^\u001b[0m\n\u001b[1;31mSyntaxError\u001b[0m\u001b[1;31m:\u001b[0m invalid syntax\n"
     ]
    }
   ],
   "source": [
    "##DB접속 정보 가져오기\n",
    "conn, cursor = getDBConn_Cursor() :\n",
    "    \n",
    "## 구문작성     \n",
    "sql = \"\"\"\n",
    "select mem_id, mem_name, mem_add1\n",
    "from member\n",
    "where mem_id = 'a001' \n",
    "\"\"\"\n",
    "\n",
    "##구문 실행\n",
    "cursor.execute(sql)\n",
    "\n",
    "## 결과추출하기\n",
    "row = cursor.fetchone()\n",
    "\n",
    "###딕셔너리로 변경하기\n",
    "dict_row = getFetchOne(cursor, row)\n",
    "print(dict_row)\n",
    "\n",
    "##DB접속 해제하기\n",
    "DBClose(cursor,conn)"
   ]
  },
  {
   "cell_type": "code",
   "execution_count": null,
   "id": "30176a64",
   "metadata": {},
   "outputs": [],
   "source": []
  },
  {
   "cell_type": "code",
   "execution_count": null,
   "id": "50cdd433",
   "metadata": {},
   "outputs": [],
   "source": []
  },
  {
   "cell_type": "code",
   "execution_count": null,
   "id": "13cbeaa2",
   "metadata": {},
   "outputs": [],
   "source": []
  }
 ],
 "metadata": {
  "kernelspec": {
   "display_name": "gy_django_kernel",
   "language": "python",
   "name": "gj_django"
  },
  "language_info": {
   "codemirror_mode": {
    "name": "ipython",
    "version": 3
   },
   "file_extension": ".py",
   "mimetype": "text/x-python",
   "name": "python",
   "nbconvert_exporter": "python",
   "pygments_lexer": "ipython3",
   "version": "3.9.16"
  }
 },
 "nbformat": 4,
 "nbformat_minor": 5
}
