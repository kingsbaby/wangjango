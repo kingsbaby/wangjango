{
 "cells": [
  {
   "cell_type": "code",
   "execution_count": null,
   "id": "d4d08b03",
   "metadata": {},
   "outputs": [],
   "source": [
    "# <DB 접속 및 사용순서>\n",
    "# 1 DB 드라이버 연결 \n",
    "# 2. DBconnection 접속\n",
    "# 3. 커서 받아오기 \n",
    "# 4. sql 구문 작성 및 실행요청\n",
    "# 5.\n",
    "# 6.커서반환 > DB Connection 접속해제\n",
    "#\n",
    "\n",
    "#오라클 라이브러리 불러들이기 \n",
    "import cx_Oracle"
   ]
  },
  {
   "cell_type": "markdown",
   "id": "9c8dc1c7",
   "metadata": {},
   "source": [
    "### 1. DB드라이버 연결하기 (서버찾아가가)"
   ]
  },
  {
   "cell_type": "code",
   "execution_count": null,
   "id": "37ed8a5b",
   "metadata": {},
   "outputs": [],
   "source": [
    "dsn = cx_Oracle.makedsn(\"localhost\", 1521, \"xe\")"
   ]
  },
  {
   "cell_type": "markdown",
   "id": "a5f643f1",
   "metadata": {},
   "source": [
    "### 2. DB접속하기 (connect)"
   ]
  },
  {
   "cell_type": "code",
   "execution_count": null,
   "id": "0d216709",
   "metadata": {},
   "outputs": [],
   "source": [
    "conn = cx_Oracle.connect(\"gwangju_a\",\"dbdb\",dsn)"
   ]
  },
  {
   "cell_type": "markdown",
   "id": "5f355b82",
   "metadata": {},
   "source": [
    "### 3.커서(cursor)받아오기 (서버로 SQL구문을 실어나르고, 결과 받아오는 역할)"
   ]
  },
  {
   "cell_type": "code",
   "execution_count": null,
   "id": "6d533200",
   "metadata": {},
   "outputs": [],
   "source": [
    "cursor = conn.cursor()"
   ]
  },
  {
   "cell_type": "markdown",
   "id": "00cb903a",
   "metadata": {},
   "source": [
    "### 4.SQL 구문 작성 및 실행요청(커서가 처리함)"
   ]
  },
  {
   "cell_type": "code",
   "execution_count": null,
   "id": "f14c497f",
   "metadata": {},
   "outputs": [],
   "source": [
    "### sql 요청 구문 작성하기\n",
    "### 회원정보에서 회원아이디, 회원이름, 회원주소1 조회하기 \n",
    "sql = \"\"\"\n",
    "SELECT mem_id , mem_name, mem_add1\n",
    "FROM MEMBER\n",
    "ORDER BY mem_name asc\n",
    "\"\"\""
   ]
  },
  {
   "cell_type": "code",
   "execution_count": null,
   "id": "4955d382",
   "metadata": {},
   "outputs": [],
   "source": [
    "### 구문을 서버에게 보내서 요청하고, 결과를 받아오기 -> 커서가 수행함 \n",
    "cursor.execute(sql)"
   ]
  },
  {
   "cell_type": "code",
   "execution_count": null,
   "id": "8cc92684",
   "metadata": {},
   "outputs": [],
   "source": []
  },
  {
   "cell_type": "code",
   "execution_count": null,
   "id": "b28bbec4",
   "metadata": {},
   "outputs": [],
   "source": [
    "###커서가 DB서버로부터 받아온 결과값 추출하기\n",
    "# - 여러건 조회 : fetchall()\n",
    "# - 한건조회 : fetchone()\n",
    "rows = cursor.fetchall()\n"
   ]
  },
  {
   "cell_type": "code",
   "execution_count": null,
   "id": "abd4a8e6",
   "metadata": {},
   "outputs": [],
   "source": [
    "rows"
   ]
  },
  {
   "cell_type": "code",
   "execution_count": 10,
   "id": "ae4c8741",
   "metadata": {},
   "outputs": [],
   "source": [
    "### 조회 결과에 대한 컬럼명만 조회하기( 커서가 가지고있음)\n",
    "colname = cursor.description"
   ]
  },
  {
   "cell_type": "code",
   "execution_count": null,
   "id": "32ef5e8a",
   "metadata": {},
   "outputs": [],
   "source": [
    "###데이터 베이스에서 조회한 결과의 컬럼명은 모두 대문자  \n",
    "# - 프로그램에서 사용할 때는 소문자로 바꿔서 사용\n",
    "colname"
   ]
  },
  {
   "cell_type": "code",
   "execution_count": null,
   "id": "4f840635",
   "metadata": {},
   "outputs": [],
   "source": [
    "### 컬럼명만 추출하여 col = [] 변수에 담기\n",
    "# - 추출한 컬럼명은 소문자로 변환해서 col리스트 변수에 담기\n",
    "\n",
    "#for문 안에서 값을 담아서 누적시키기위해 전역변수로 선언 \n",
    "col= []\n",
    "for t in colname :\n",
    "    # col 리스트 변수에 값을 추가하기 : append(값) 사용\n",
    "    col.append(t[0].lower())\n",
    "col"
   ]
  },
  {
   "cell_type": "code",
   "execution_count": null,
   "id": "a8a4537d",
   "metadata": {},
   "outputs": [],
   "source": [
    "### html에서 사용할수 있도록 하기 위해서 \n",
    "# - [{\"mem_id\": \"a001\", \"mem_name\":\"asdfasdf\", \"mem_add1\":\"광주...\"},\n",
    "#   {\"mem_id\": \"a001\", \"mem_name\":\"asdfasdf\", \"mem_add1\":\"광주...\"},\n",
    "# {},{} ,,, ] 형태로 변환하기\n",
    "# - 최종결과값을 담을 변수명 : list_row\n",
    "list_rows = []\n",
    "for t in rows: \n",
    "    dict_temp ={}\n",
    "    for i in range(0,len(col), 1):\n",
    "        #print(col[i], t[i])  #출력결과확인\n",
    "        dict_temp[col[i]] = t[i]\n",
    "    list_row.append(dict_temp)\n",
    "list_row"
   ]
  },
  {
   "cell_type": "markdown",
   "id": "0de9cf61",
   "metadata": {},
   "source": [
    "### 6.커서반환 > DB Connection 접속해제 "
   ]
  },
  {
   "cell_type": "code",
   "execution_count": 56,
   "id": "d2f69fe2",
   "metadata": {},
   "outputs": [],
   "source": [
    "### 커서(cursor) 반환하기\n",
    "cursor.close()\n",
    "### 접속(connect)접속 해제\n",
    "conn.close()"
   ]
  },
  {
   "cell_type": "code",
   "execution_count": null,
   "id": "81134951",
   "metadata": {},
   "outputs": [],
   "source": []
  }
 ],
 "metadata": {
  "kernelspec": {
   "display_name": "gy_django_kernel",
   "language": "python",
   "name": "gj_django"
  },
  "language_info": {
   "codemirror_mode": {
    "name": "ipython",
    "version": 3
   },
   "file_extension": ".py",
   "mimetype": "text/x-python",
   "name": "python",
   "nbconvert_exporter": "python",
   "pygments_lexer": "ipython3",
   "version": "3.9.16"
  }
 },
 "nbformat": 4,
 "nbformat_minor": 5
}
